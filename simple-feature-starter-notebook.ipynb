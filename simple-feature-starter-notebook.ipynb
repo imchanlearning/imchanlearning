{
 "cells": [
  {
   "cell_type": "code",
   "execution_count": 1,
   "id": "8be18b8a",
   "metadata": {
    "execution": {
     "iopub.execute_input": "2024-03-02T02:03:02.362545Z",
     "iopub.status.busy": "2024-03-02T02:03:02.361626Z",
     "iopub.status.idle": "2024-03-02T02:03:06.503610Z",
     "shell.execute_reply": "2024-03-02T02:03:06.502736Z"
    },
    "papermill": {
     "duration": 4.153978,
     "end_time": "2024-03-02T02:03:06.506572",
     "exception": false,
     "start_time": "2024-03-02T02:03:02.352594",
     "status": "completed"
    },
    "tags": []
   },
   "outputs": [],
   "source": [
    "import polars as pl\n",
    "import numpy as np\n",
    "import pandas as pd\n",
    "import lightgbm as lgb\n",
    "from sklearn.model_selection import train_test_split\n",
    "from sklearn.preprocessing import OneHotEncoder,LabelEncoder\n",
    "from sklearn.metrics import roc_auc_score \n",
    "import warnings\n",
    "from sklearn.model_selection import GroupKFold, StratifiedGroupKFold\n",
    "from sklearn.base import BaseEstimator, RegressorMixin\n",
    "dataPath = \"/kaggle/input/home-credit-credit-risk-model-stability/\""
   ]
  },
  {
   "cell_type": "code",
   "execution_count": 2,
   "id": "cc39b5dc",
   "metadata": {
    "_kg_hide-input": false,
    "execution": {
     "iopub.execute_input": "2024-03-02T02:03:06.524707Z",
     "iopub.status.busy": "2024-03-02T02:03:06.524307Z",
     "iopub.status.idle": "2024-03-02T02:03:06.544227Z",
     "shell.execute_reply": "2024-03-02T02:03:06.543030Z"
    },
    "papermill": {
     "duration": 0.031662,
     "end_time": "2024-03-02T02:03:06.546833",
     "exception": false,
     "start_time": "2024-03-02T02:03:06.515171",
     "status": "completed"
    },
    "tags": []
   },
   "outputs": [],
   "source": [
    "def set_table_dtypes(df: pl.DataFrame) -> pl.DataFrame:\n",
    "    # implement here all desired dtypes for tables\n",
    "    # the following is just an example\n",
    "    for col in df.columns:\n",
    "        # last letter of column name will help you determine the type\n",
    "        if col[-1] in (\"P\", \"A\"):\n",
    "                df = df.with_columns(pl.col(col).cast(pl.Float64))\n",
    "    return df\n",
    "\n",
    "\n",
    "def convert_strings(df: pd.DataFrame) -> pd.DataFrame: \n",
    "    for col in df.columns:  \n",
    "        if df[col].dtype.name in ['object', 'string']:\n",
    "            df[col] = df[col].astype(\"string\").astype('category')\n",
    "            current_categories = df[col].cat.categories\n",
    "            new_categories = current_categories.to_list() + [\"Unknown\"]\n",
    "            new_dtype = pd.CategoricalDtype(categories=new_categories, ordered=True)\n",
    "            df[col] = df[col].astype(new_dtype)\n",
    "    return df\n",
    "\n",
    "#https://www.kaggle.com/code/darynarr/home-credit-drop-date-features/notebook\n",
    "def reduce_memory_usage_pl(df):\n",
    "        \"\"\" Reduce memory usage by polars dataframe {df} with name {name} by changing its data types.\n",
    "            Original pandas version of this function: https://www.kaggle.com/code/arjanso/reducing-dataframe-memory-size-by-65 \"\"\"\n",
    "        print(f\"Memory usage of dataframe is {round(df.estimated_size('mb'), 2)} MB\")\n",
    "        Numeric_Int_types = [pl.Int8,pl.Int16,pl.Int32,pl.Int64]\n",
    "        Numeric_Float_types = [pl.Float32,pl.Float64]    \n",
    "        for col in df.columns:\n",
    "            try:\n",
    "                col_type = df[col].dtype\n",
    "                if col_type == pl.Categorical:\n",
    "                    continue\n",
    "                c_min = df[col].min()\n",
    "                c_max = df[col].max()\n",
    "                if col_type in Numeric_Int_types:\n",
    "                    if c_min > np.iinfo(np.int8).min and c_max < np.iinfo(np.int8).max:\n",
    "                        df = df.with_columns(df[col].cast(pl.Int32))\n",
    "                    elif c_min > np.iinfo(np.int16).min and c_max < np.iinfo(np.int16).max:\n",
    "                        df = df.with_columns(df[col].cast(pl.Int16))\n",
    "                    elif c_min > np.iinfo(np.int32).min and c_max < np.iinfo(np.int32).max:\n",
    "                        df = df.with_columns(df[col].cast(pl.Int32))\n",
    "                    elif c_min > np.iinfo(np.int64).min and c_max < np.iinfo(np.int64).max:\n",
    "                        df = df.with_columns(df[col].cast(pl.Int64))\n",
    "                elif col_type in Numeric_Float_types:\n",
    "                    if c_min > np.finfo(np.float32).min and c_max < np.finfo(np.float32).max:\n",
    "                        df = df.with_columns(df[col].cast(pl.Float32))\n",
    "                    else:\n",
    "                        pass\n",
    "                # elif col_type == pl.Utf8:\n",
    "                #     df = df.with_columns(df[col].cast(pl.Categorical))\n",
    "                else:\n",
    "                    pass\n",
    "            except:\n",
    "                pass\n",
    "        print(f\"Memory usage of dataframe became {round(df.estimated_size('mb'), 2)} MB\")\n",
    "        return df\n"
   ]
  },
  {
   "cell_type": "code",
   "execution_count": 3,
   "id": "03df597a",
   "metadata": {
    "_kg_hide-input": true,
    "execution": {
     "iopub.execute_input": "2024-03-02T02:03:06.560656Z",
     "iopub.status.busy": "2024-03-02T02:03:06.559601Z",
     "iopub.status.idle": "2024-03-02T02:04:10.829377Z",
     "shell.execute_reply": "2024-03-02T02:04:10.826967Z"
    },
    "papermill": {
     "duration": 64.28269,
     "end_time": "2024-03-02T02:04:10.835393",
     "exception": false,
     "start_time": "2024-03-02T02:03:06.552703",
     "status": "completed"
    },
    "tags": []
   },
   "outputs": [],
   "source": [
    "train_basetable = pl.read_csv(dataPath+'csv_files/train/train_base.csv').pipe(set_table_dtypes)\n",
    "\n",
    "train_static = pl.concat(\n",
    "[pl.read_csv(dataPath + \"csv_files/train/train_static_0_0.csv\").pipe(set_table_dtypes),\n",
    "pl.read_csv(dataPath + \"csv_files/train/train_static_0_1.csv\").pipe(set_table_dtypes)\n",
    "],how = 'vertical_relaxed',\n",
    ")\n",
    "\n",
    "train_applprev = pl.concat(\n",
    "[pl.read_csv(dataPath + \"csv_files/train/train_applprev_1_0.csv\").pipe(set_table_dtypes),\n",
    "pl.read_csv(dataPath + \"csv_files/train/train_applprev_1_1.csv\").pipe(set_table_dtypes)   \n",
    "],how = 'vertical_relaxed',\n",
    ")\n",
    "\n",
    "train_static_cb = pl.read_csv(dataPath + \"csv_files/train/train_static_cb_0.csv\").pipe(set_table_dtypes)\n",
    "train_person_1 = pl.read_csv(dataPath + \"csv_files/train/train_person_1.csv\").pipe(set_table_dtypes)\n",
    "train_credit_bureau_a_2_5 = pl.read_csv(dataPath + \"csv_files/train/train_credit_bureau_a_2_5.csv\").pipe(set_table_dtypes)\n",
    "train_deposit_1 = pl.read_csv(dataPath + \"csv_files/train/train_deposit_1.csv\").pipe(set_table_dtypes)\n"
   ]
  },
  {
   "cell_type": "code",
   "execution_count": 4,
   "id": "a810f800",
   "metadata": {
    "execution": {
     "iopub.execute_input": "2024-03-02T02:04:10.854947Z",
     "iopub.status.busy": "2024-03-02T02:04:10.853402Z",
     "iopub.status.idle": "2024-03-02T02:04:10.928008Z",
     "shell.execute_reply": "2024-03-02T02:04:10.927023Z"
    },
    "papermill": {
     "duration": 0.086374,
     "end_time": "2024-03-02T02:04:10.930985",
     "exception": false,
     "start_time": "2024-03-02T02:04:10.844611",
     "status": "completed"
    },
    "tags": []
   },
   "outputs": [],
   "source": [
    "test_basetable = pl.read_csv(dataPath+'csv_files/test/test_base.csv').pipe(set_table_dtypes)\n",
    "\n",
    "test_static = pl.concat(\n",
    "[pl.read_csv(dataPath + \"csv_files/test/test_static_0_0.csv\").pipe(set_table_dtypes),\n",
    "pl.read_csv(dataPath + \"csv_files/test/test_static_0_1.csv\").pipe(set_table_dtypes)\n",
    "],how = 'vertical_relaxed',\n",
    ")\n",
    "test_applprev = pl.concat(\n",
    "[       pl.read_csv(dataPath + \"csv_files/test/test_applprev_1_0.csv\").pipe(set_table_dtypes),\n",
    "        pl.read_csv(dataPath + \"csv_files/test/test_applprev_1_1.csv\").pipe(set_table_dtypes),    \n",
    "],how = 'vertical_relaxed',\n",
    ")\n",
    "\n",
    "test_static_cb = pl.read_csv(dataPath + \"csv_files/test/test_static_cb_0.csv\").pipe(set_table_dtypes)\n",
    "test_person_1 = pl.read_csv(dataPath + \"csv_files/test/test_person_1.csv\").pipe(set_table_dtypes)\n",
    "test_credit_bureau_a_2_5 = pl.read_csv(dataPath + \"csv_files/test/test_credit_bureau_a_2_5.csv\").pipe(set_table_dtypes)\n",
    "test_deposit_1 = pl.read_csv(dataPath + \"csv_files/test/test_deposit_1.csv\").pipe(set_table_dtypes)"
   ]
  },
  {
   "cell_type": "code",
   "execution_count": 5,
   "id": "a098cb08",
   "metadata": {
    "_kg_hide-output": false,
    "execution": {
     "iopub.execute_input": "2024-03-02T02:04:10.947026Z",
     "iopub.status.busy": "2024-03-02T02:04:10.946072Z",
     "iopub.status.idle": "2024-03-02T02:04:15.864123Z",
     "shell.execute_reply": "2024-03-02T02:04:15.862325Z"
    },
    "papermill": {
     "duration": 4.929211,
     "end_time": "2024-03-02T02:04:15.866919",
     "exception": false,
     "start_time": "2024-03-02T02:04:10.937708",
     "status": "completed"
    },
    "tags": []
   },
   "outputs": [
    {
     "name": "stdout",
     "output_type": "stream",
     "text": [
      "Memory usage of dataframe is 629.98 MB\n",
      "Memory usage of dataframe became 606.69 MB\n",
      "Memory usage of dataframe is 0.0 MB\n",
      "Memory usage of dataframe became 0.0 MB\n"
     ]
    }
   ],
   "source": [
    "class FeatureEngineer:\n",
    "    def __init__(self, train_basetable, train_static, train_static_cb,\n",
    "                 train_person_1, train_credit_bureau_a_2_5,train_deposit_1,train_applprev):\n",
    "        \n",
    "        self.train_basetable = train_basetable\n",
    "        self.train_static = train_static\n",
    "        self.train_static_cb = train_static_cb\n",
    "        self.train_person_1 = train_person_1\n",
    "        self.train_credit_bureau_a_2_5 = train_credit_bureau_a_2_5\n",
    "        self.train_deposit_1 = train_deposit_1\n",
    "        self.train_applprev = train_applprev\n",
    "        \n",
    "        \n",
    "        \n",
    "    def generate_person_features(self):\n",
    "        # Aggregating features from train_person_1\n",
    "        train_person_1_feats_1 = self.train_person_1.group_by(\"case_id\").agg(\n",
    "            pl.col(\"mainoccupationinc_384A\").max().alias(\"mainoccupationinc_384A_max\"),\n",
    "            (pl.col(\"incometype_1044T\") == \"SELFEMPLOYED\").max().alias(\"mainoccupationinc_384A_any_selfemployed\"),\n",
    "            pl.col(\"childnum_185L\").sum().alias(\"total_childrenL\").cast(pl.Int32)\n",
    "        )\n",
    "        \n",
    "        # Filtering and selecting features from train_person_1\n",
    "        train_person_1_feats_2 = self.train_person_1.select([\"case_id\", \"num_group1\", \"housetype_905L\"]).filter(\n",
    "            pl.col(\"num_group1\") == 0).drop(\"num_group1\").rename({\"housetype_905L\": \"person_housetype\"})\n",
    "        \n",
    "        \n",
    "        return train_person_1_feats_1, train_person_1_feats_2\n",
    "    \n",
    "    \n",
    "    def deposit_frequency(self):\n",
    "        deposit_frequency = self.train_deposit_1.group_by(\"case_id\").agg(\n",
    "        pl.count(\"amount_416A\").alias(\"deposit_countL\")\n",
    "    )   \n",
    "        return deposit_frequency\n",
    "    \n",
    "    \n",
    "    def generate_applprev(self):\n",
    "        # Total Payment Amount\n",
    "        total_payment_amount = self.train_applprev.group_by(\"case_id\").agg(\n",
    "            pl.col(\"pmtnum_8L\").sum().alias(\"total_payment_amountL\"))\n",
    "            \n",
    "        #payment_rate = self.train_applprev.with_columns(\n",
    "           # (pl.col(\"annuity_853A\")/pl.col(\"credamount_590A\")).alias(\"payment_rateL\"))\n",
    "        \n",
    "        return total_payment_amount#,payment_rate\n",
    "\n",
    "    \n",
    "    def generate_static_columns(self, df):\n",
    "        selected_static_cols = [col for col in df.columns if col[-1] in (\"A\", \"M\")]\n",
    "        return df.select([\"case_id\"] + selected_static_cols)\n",
    "    \n",
    "    \n",
    "\n",
    "        # Generating features\n",
    "    def join_tables(self):\n",
    "        person_feats_1, person_feats_2 = self.generate_person_features()\n",
    "        deposit_frequency = self.deposit_frequency()\n",
    "        total_payment_amount  = self.generate_applprev()\n",
    "         \n",
    "        # Selecting static columns\n",
    "        selected_static = self.generate_static_columns(self.train_static)\n",
    "        selected_static_cb = self.generate_static_columns(self.train_static_cb)\n",
    "        \n",
    "        \n",
    "        data = self.train_basetable.join(selected_static, how=\"left\", on=\"case_id\") \\\n",
    "                                   .join(selected_static_cb, how=\"left\", on=\"case_id\") \\\n",
    "                                   .join(person_feats_1, how=\"left\", on=\"case_id\") \\\n",
    "                                   .join(person_feats_2, how=\"left\", on=\"case_id\") \\\n",
    "                                   .join(deposit_frequency, how=\"left\", on=\"case_id\") \\\n",
    "                                   .join(total_payment_amount, how=\"left\", on=\"case_id\") \n",
    "                                   #.join(payment_rate, how=\"left\", on=\"case_id\") \n",
    "\n",
    "        data = data.with_columns(\n",
    "            pl.col(pl.Float64).cast(pl.Float32)\n",
    "        )\n",
    "\n",
    "        \n",
    "        return data\n",
    "    \n",
    "            \n",
    "       # Generate and join features for the test set\n",
    "    def process_test_set(self, test_basetable, test_static, test_static_cb, test_person_1, test_credit_bureau_a_2_5, test_deposit_1,test_applprev):\n",
    "        fe_test = FeatureEngineer(test_basetable, test_static, test_static_cb, test_person_1, test_credit_bureau_a_2_5, test_deposit_1,test_applprev)\n",
    "        \n",
    "        test_data = fe_test.join_tables()\n",
    "\n",
    "\n",
    "        return test_data\n",
    "    \n",
    "#\n",
    "fe = FeatureEngineer(train_basetable, train_static, train_static_cb, train_person_1,\n",
    "                     train_credit_bureau_a_2_5,train_deposit_1,train_applprev)\n",
    "\n",
    "data = fe.join_tables()\n",
    "data = reduce_memory_usage_pl(data)\n",
    "\n",
    "\n",
    "test_data = fe.process_test_set(test_basetable, test_static, test_static_cb,\n",
    "                                test_person_1, test_credit_bureau_a_2_5, test_deposit_1,test_applprev)\n",
    "\n",
    "test_data = reduce_memory_usage_pl(test_data)"
   ]
  },
  {
   "cell_type": "markdown",
   "id": "3bf6300b",
   "metadata": {
    "execution": {
     "iopub.status.busy": "2024-03-01T04:58:49.462981Z",
     "iopub.status.idle": "2024-03-01T04:58:49.463331Z",
     "shell.execute_reply": "2024-03-01T04:58:49.463188Z",
     "shell.execute_reply.started": "2024-03-01T04:58:49.463174Z"
    },
    "papermill": {
     "duration": 0.005952,
     "end_time": "2024-03-02T02:04:15.880107",
     "exception": false,
     "start_time": "2024-03-02T02:04:15.874155",
     "status": "completed"
    },
    "tags": []
   },
   "source": [
    "def to_pandas(df_data, cat_cols=None):\n",
    "    df_data = df_data.to_pandas()\n",
    "    \n",
    "    if cat_cols is None:\n",
    "        cat_cols = list(df_data.select_dtypes(\"object\").columns)\n",
    "    \n",
    "    df_data[cat_cols] = df_data[cat_cols].astype(\"category\")\n",
    "    \n",
    "    return df_data, cat_cols"
   ]
  },
  {
   "cell_type": "markdown",
   "id": "94f16408",
   "metadata": {
    "execution": {
     "iopub.status.busy": "2024-03-01T04:58:49.464663Z",
     "iopub.status.idle": "2024-03-01T04:58:49.465010Z",
     "shell.execute_reply": "2024-03-01T04:58:49.464865Z",
     "shell.execute_reply.started": "2024-03-01T04:58:49.464851Z"
    },
    "papermill": {
     "duration": 0.005957,
     "end_time": "2024-03-02T02:04:15.892345",
     "exception": false,
     "start_time": "2024-03-02T02:04:15.886388",
     "status": "completed"
    },
    "tags": []
   },
   "source": [
    "data,cat_cols = to_pandas(data)\n",
    "test_data, cat_cols = to_pandas(test_data, cat_cols)\n"
   ]
  },
  {
   "cell_type": "code",
   "execution_count": 6,
   "id": "a2fb79b4",
   "metadata": {
    "execution": {
     "iopub.execute_input": "2024-03-02T02:04:15.907412Z",
     "iopub.status.busy": "2024-03-02T02:04:15.906482Z",
     "iopub.status.idle": "2024-03-02T02:04:25.194866Z",
     "shell.execute_reply": "2024-03-02T02:04:25.193589Z"
    },
    "papermill": {
     "duration": 9.299381,
     "end_time": "2024-03-02T02:04:25.197978",
     "exception": false,
     "start_time": "2024-03-02T02:04:15.898597",
     "status": "completed"
    },
    "tags": []
   },
   "outputs": [],
   "source": [
    "case_ids = data[\"case_id\"].unique().shuffle(seed=1)\n",
    "case_ids_train, case_ids_test = train_test_split(case_ids, train_size=0.6, random_state=1)\n",
    "case_ids_valid, case_ids_test = train_test_split(case_ids_test, train_size=0.5, random_state=1)\n",
    "\n",
    "cols_pred = []\n",
    "for col in data.columns:\n",
    "    if col[-1].isupper() and col[:-1].islower():\n",
    "        cols_pred.append(col)\n",
    "        \n",
    "def from_polars_to_pandas(case_ids: pl.DataFrame) -> pl.DataFrame:\n",
    "    return (\n",
    "        data.filter(pl.col(\"case_id\").is_in(case_ids))[[\"case_id\", \"WEEK_NUM\", \"target\"]].to_pandas(),\n",
    "        data.filter(pl.col(\"case_id\").is_in(case_ids))[cols_pred].to_pandas(),\n",
    "        data.filter(pl.col(\"case_id\").is_in(case_ids))[\"target\"].to_pandas()\n",
    "    )\n",
    "\n",
    "base_train, X_train, y_train = from_polars_to_pandas(case_ids_train)\n",
    "base_valid, X_valid, y_valid = from_polars_to_pandas(case_ids_valid)\n",
    "base_test, X_test, y_test = from_polars_to_pandas(case_ids_test)\n",
    "\n",
    "for df in [X_train, X_valid, X_test]:\n",
    "    df = convert_strings(df)"
   ]
  },
  {
   "cell_type": "code",
   "execution_count": 7,
   "id": "f78c1e76",
   "metadata": {
    "execution": {
     "iopub.execute_input": "2024-03-02T02:04:25.212671Z",
     "iopub.status.busy": "2024-03-02T02:04:25.211774Z",
     "iopub.status.idle": "2024-03-02T02:04:25.217764Z",
     "shell.execute_reply": "2024-03-02T02:04:25.216969Z"
    },
    "papermill": {
     "duration": 0.015929,
     "end_time": "2024-03-02T02:04:25.220221",
     "exception": false,
     "start_time": "2024-03-02T02:04:25.204292",
     "status": "completed"
    },
    "tags": []
   },
   "outputs": [
    {
     "name": "stdout",
     "output_type": "stream",
     "text": [
      "X_train:(915995, 51)\n",
      "Valid: (305332, 51)\n",
      "Test: (305332, 51)\n"
     ]
    }
   ],
   "source": [
    "print(f\"X_train:{X_train.shape}\")\n",
    "print(f\"Valid: {X_valid.shape}\")\n",
    "print(f\"Test: {X_test.shape}\")"
   ]
  },
  {
   "cell_type": "code",
   "execution_count": 8,
   "id": "c4c871dc",
   "metadata": {
    "execution": {
     "iopub.execute_input": "2024-03-02T02:04:25.234337Z",
     "iopub.status.busy": "2024-03-02T02:04:25.233885Z",
     "iopub.status.idle": "2024-03-02T02:06:12.529170Z",
     "shell.execute_reply": "2024-03-02T02:06:12.527795Z"
    },
    "papermill": {
     "duration": 107.305584,
     "end_time": "2024-03-02T02:06:12.531888",
     "exception": false,
     "start_time": "2024-03-02T02:04:25.226304",
     "status": "completed"
    },
    "tags": []
   },
   "outputs": [
    {
     "name": "stderr",
     "output_type": "stream",
     "text": [
      "/opt/conda/lib/python3.10/site-packages/lightgbm/engine.py:172: UserWarning: Found `n_estimators` in params. Will use it instead of argument\n",
      "  _log_warning(f\"Found `{alias}` in params. Will use it instead of argument\")\n"
     ]
    },
    {
     "name": "stdout",
     "output_type": "stream",
     "text": [
      "Training until validation scores don't improve for 10 rounds\n",
      "[50]\tvalid_0's auc: 0.708074\n",
      "[100]\tvalid_0's auc: 0.726863\n",
      "[150]\tvalid_0's auc: 0.735265\n",
      "[200]\tvalid_0's auc: 0.739834\n",
      "[250]\tvalid_0's auc: 0.743563\n",
      "[300]\tvalid_0's auc: 0.746203\n",
      "[350]\tvalid_0's auc: 0.747929\n",
      "[400]\tvalid_0's auc: 0.750039\n",
      "[450]\tvalid_0's auc: 0.751422\n",
      "[500]\tvalid_0's auc: 0.752639\n",
      "[550]\tvalid_0's auc: 0.753289\n",
      "[600]\tvalid_0's auc: 0.75427\n",
      "[650]\tvalid_0's auc: 0.75525\n",
      "[700]\tvalid_0's auc: 0.755953\n",
      "[750]\tvalid_0's auc: 0.756403\n",
      "[800]\tvalid_0's auc: 0.756776\n",
      "[850]\tvalid_0's auc: 0.757439\n",
      "[900]\tvalid_0's auc: 0.757827\n",
      "Early stopping, best iteration is:\n",
      "[920]\tvalid_0's auc: 0.758156\n"
     ]
    }
   ],
   "source": [
    "lgb_train = lgb.Dataset(X_train, label=y_train)\n",
    "lgb_valid = lgb.Dataset(X_valid, label=y_valid, reference=lgb_train)\n",
    "\n",
    "params = {\n",
    "    \"boosting_type\": \"gbdt\",\n",
    "    \"objective\": \"binary\",\n",
    "    \"metric\": \"auc\",\n",
    "    \"max_depth\": 3,\n",
    "    \"num_leaves\": 31,\n",
    "    \"learning_rate\": 0.05,\n",
    "    \"feature_fraction\": 0.9,\n",
    "    \"bagging_fraction\": 0.8,\n",
    "    \"bagging_freq\": 5,\n",
    "    \"n_estimators\": 1000,\n",
    "    \"verbose\": -1,\n",
    "}\n",
    "\n",
    "gbm = lgb.train(\n",
    "    params,\n",
    "    lgb_train,\n",
    "    valid_sets=lgb_valid,\n",
    "    callbacks=[lgb.log_evaluation(50), lgb.early_stopping(10)]\n",
    ")"
   ]
  },
  {
   "cell_type": "code",
   "execution_count": 9,
   "id": "0618e4d4",
   "metadata": {
    "execution": {
     "iopub.execute_input": "2024-03-02T02:06:12.550284Z",
     "iopub.status.busy": "2024-03-02T02:06:12.549829Z",
     "iopub.status.idle": "2024-03-02T02:06:12.835367Z",
     "shell.execute_reply": "2024-03-02T02:06:12.834322Z"
    },
    "papermill": {
     "duration": 0.297898,
     "end_time": "2024-03-02T02:06:12.838115",
     "exception": false,
     "start_time": "2024-03-02T02:06:12.540217",
     "status": "completed"
    },
    "tags": []
   },
   "outputs": [],
   "source": [
    "X_submission = test_data[cols_pred].to_pandas()\n",
    "X_submission = convert_strings(X_submission)\n",
    "categorical_cols = X_train.select_dtypes(include=['category']).columns\n",
    "\n",
    "for col in categorical_cols:\n",
    "    train_categories = set(X_train[col].cat.categories)\n",
    "    submission_categories = set(X_submission[col].cat.categories)\n",
    "    new_categories = submission_categories - train_categories\n",
    "    X_submission.loc[X_submission[col].isin(new_categories), col] = \"Unknown\"\n",
    "    new_dtype = pd.CategoricalDtype(categories=train_categories, ordered=True)\n",
    "    X_train[col] = X_train[col].astype(new_dtype)\n",
    "    \n",
    "    y_submission_pred = gbm.predict(X_submission, num_iteration=gbm.best_iteration)\n",
    "    X_submission[col] = X_submission[col].astype(new_dtype)"
   ]
  },
  {
   "cell_type": "code",
   "execution_count": 10,
   "id": "81cca928",
   "metadata": {
    "execution": {
     "iopub.execute_input": "2024-03-02T02:06:12.864374Z",
     "iopub.status.busy": "2024-03-02T02:06:12.863149Z",
     "iopub.status.idle": "2024-03-02T02:06:12.874658Z",
     "shell.execute_reply": "2024-03-02T02:06:12.873230Z"
    },
    "papermill": {
     "duration": 0.03068,
     "end_time": "2024-03-02T02:06:12.877432",
     "exception": false,
     "start_time": "2024-03-02T02:06:12.846752",
     "status": "completed"
    },
    "tags": []
   },
   "outputs": [
    {
     "data": {
      "text/plain": [
       "array([0.05835672, 0.05182846, 0.04747661, 0.02896983, 0.0127226 ,\n",
       "       0.02872934, 0.0120761 , 0.00521235, 0.03677685, 0.02903873])"
      ]
     },
     "execution_count": 10,
     "metadata": {},
     "output_type": "execute_result"
    }
   ],
   "source": [
    "y_submission_pred"
   ]
  },
  {
   "cell_type": "code",
   "execution_count": 11,
   "id": "728f8455",
   "metadata": {
    "execution": {
     "iopub.execute_input": "2024-03-02T02:06:12.897302Z",
     "iopub.status.busy": "2024-03-02T02:06:12.896872Z",
     "iopub.status.idle": "2024-03-02T02:06:12.913851Z",
     "shell.execute_reply": "2024-03-02T02:06:12.912719Z"
    },
    "papermill": {
     "duration": 0.030609,
     "end_time": "2024-03-02T02:06:12.916734",
     "exception": false,
     "start_time": "2024-03-02T02:06:12.886125",
     "status": "completed"
    },
    "tags": []
   },
   "outputs": [],
   "source": [
    "submission = pd.DataFrame({\n",
    "    \"case_id\":test_data[\"case_id\"].to_numpy(),\n",
    "    \"score\": y_submission_pred\n",
    "}).set_index('case_id')\n",
    "submission.to_csv(\"./submission.csv\")"
   ]
  },
  {
   "cell_type": "code",
   "execution_count": 12,
   "id": "d00c3cc4",
   "metadata": {
    "execution": {
     "iopub.execute_input": "2024-03-02T02:06:12.935775Z",
     "iopub.status.busy": "2024-03-02T02:06:12.935339Z",
     "iopub.status.idle": "2024-03-02T02:06:12.954990Z",
     "shell.execute_reply": "2024-03-02T02:06:12.953780Z"
    },
    "papermill": {
     "duration": 0.033142,
     "end_time": "2024-03-02T02:06:12.958511",
     "exception": false,
     "start_time": "2024-03-02T02:06:12.925369",
     "status": "completed"
    },
    "tags": []
   },
   "outputs": [
    {
     "data": {
      "text/html": [
       "<div>\n",
       "<style scoped>\n",
       "    .dataframe tbody tr th:only-of-type {\n",
       "        vertical-align: middle;\n",
       "    }\n",
       "\n",
       "    .dataframe tbody tr th {\n",
       "        vertical-align: top;\n",
       "    }\n",
       "\n",
       "    .dataframe thead th {\n",
       "        text-align: right;\n",
       "    }\n",
       "</style>\n",
       "<table border=\"1\" class=\"dataframe\">\n",
       "  <thead>\n",
       "    <tr style=\"text-align: right;\">\n",
       "      <th></th>\n",
       "      <th>score</th>\n",
       "    </tr>\n",
       "    <tr>\n",
       "      <th>case_id</th>\n",
       "      <th></th>\n",
       "    </tr>\n",
       "  </thead>\n",
       "  <tbody>\n",
       "    <tr>\n",
       "      <th>57543</th>\n",
       "      <td>0.058357</td>\n",
       "    </tr>\n",
       "    <tr>\n",
       "      <th>57549</th>\n",
       "      <td>0.051828</td>\n",
       "    </tr>\n",
       "    <tr>\n",
       "      <th>57551</th>\n",
       "      <td>0.047477</td>\n",
       "    </tr>\n",
       "    <tr>\n",
       "      <th>57552</th>\n",
       "      <td>0.028970</td>\n",
       "    </tr>\n",
       "    <tr>\n",
       "      <th>57569</th>\n",
       "      <td>0.012723</td>\n",
       "    </tr>\n",
       "    <tr>\n",
       "      <th>57630</th>\n",
       "      <td>0.028729</td>\n",
       "    </tr>\n",
       "    <tr>\n",
       "      <th>57631</th>\n",
       "      <td>0.012076</td>\n",
       "    </tr>\n",
       "    <tr>\n",
       "      <th>57632</th>\n",
       "      <td>0.005212</td>\n",
       "    </tr>\n",
       "    <tr>\n",
       "      <th>57633</th>\n",
       "      <td>0.036777</td>\n",
       "    </tr>\n",
       "    <tr>\n",
       "      <th>57634</th>\n",
       "      <td>0.029039</td>\n",
       "    </tr>\n",
       "  </tbody>\n",
       "</table>\n",
       "</div>"
      ],
      "text/plain": [
       "            score\n",
       "case_id          \n",
       "57543    0.058357\n",
       "57549    0.051828\n",
       "57551    0.047477\n",
       "57552    0.028970\n",
       "57569    0.012723\n",
       "57630    0.028729\n",
       "57631    0.012076\n",
       "57632    0.005212\n",
       "57633    0.036777\n",
       "57634    0.029039"
      ]
     },
     "execution_count": 12,
     "metadata": {},
     "output_type": "execute_result"
    }
   ],
   "source": [
    "submission"
   ]
  },
  {
   "cell_type": "code",
   "execution_count": null,
   "id": "d4621b2d",
   "metadata": {
    "papermill": {
     "duration": 0.008317,
     "end_time": "2024-03-02T02:06:12.975636",
     "exception": false,
     "start_time": "2024-03-02T02:06:12.967319",
     "status": "completed"
    },
    "tags": []
   },
   "outputs": [],
   "source": []
  }
 ],
 "metadata": {
  "kaggle": {
   "accelerator": "none",
   "dataSources": [
    {
     "databundleVersionId": 7602123,
     "sourceId": 50160,
     "sourceType": "competition"
    }
   ],
   "dockerImageVersionId": 30646,
   "isGpuEnabled": false,
   "isInternetEnabled": true,
   "language": "python",
   "sourceType": "notebook"
  },
  "kernelspec": {
   "display_name": "Python 3",
   "language": "python",
   "name": "python3"
  },
  "language_info": {
   "codemirror_mode": {
    "name": "ipython",
    "version": 3
   },
   "file_extension": ".py",
   "mimetype": "text/x-python",
   "name": "python",
   "nbconvert_exporter": "python",
   "pygments_lexer": "ipython3",
   "version": "3.10.13"
  },
  "papermill": {
   "default_parameters": {},
   "duration": 196.620863,
   "end_time": "2024-03-02T02:06:15.807246",
   "environment_variables": {},
   "exception": null,
   "input_path": "__notebook__.ipynb",
   "output_path": "__notebook__.ipynb",
   "parameters": {},
   "start_time": "2024-03-02T02:02:59.186383",
   "version": "2.5.0"
  }
 },
 "nbformat": 4,
 "nbformat_minor": 5
}
