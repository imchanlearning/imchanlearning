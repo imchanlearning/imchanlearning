{
 "cells": [
  {
   "cell_type": "code",
   "execution_count": 1,
   "id": "b9be91f7",
   "metadata": {
    "_kg_hide-input": false,
    "execution": {
     "iopub.execute_input": "2024-03-25T08:10:33.383102Z",
     "iopub.status.busy": "2024-03-25T08:10:33.382634Z",
     "iopub.status.idle": "2024-03-25T08:10:37.726888Z",
     "shell.execute_reply": "2024-03-25T08:10:37.725779Z"
    },
    "papermill": {
     "duration": 4.35365,
     "end_time": "2024-03-25T08:10:37.729774",
     "exception": false,
     "start_time": "2024-03-25T08:10:33.376124",
     "status": "completed"
    },
    "tags": []
   },
   "outputs": [],
   "source": [
    "import polars as pl\n",
    "import numpy as np\n",
    "import pandas as pd\n",
    "import lightgbm as lgb\n",
    "from sklearn.model_selection import train_test_split\n",
    "from sklearn.preprocessing import OneHotEncoder,LabelEncoder\n",
    "from sklearn.metrics import roc_auc_score \n",
    "import warnings\n",
    "from sklearn.model_selection import GroupKFold, StratifiedGroupKFold\n",
    "from sklearn.base import BaseEstimator, RegressorMixin\n",
    "dataPath = \"/kaggle/input/home-credit-credit-risk-model-stability/\""
   ]
  },
  {
   "cell_type": "code",
   "execution_count": 2,
   "id": "036238fb",
   "metadata": {
    "execution": {
     "iopub.execute_input": "2024-03-25T08:10:37.741399Z",
     "iopub.status.busy": "2024-03-25T08:10:37.740230Z",
     "iopub.status.idle": "2024-03-25T08:10:37.757922Z",
     "shell.execute_reply": "2024-03-25T08:10:37.756578Z"
    },
    "papermill": {
     "duration": 0.02676,
     "end_time": "2024-03-25T08:10:37.760953",
     "exception": false,
     "start_time": "2024-03-25T08:10:37.734193",
     "status": "completed"
    },
    "tags": []
   },
   "outputs": [],
   "source": [
    "def set_table_dtypes(df: pl.DataFrame) -> pl.DataFrame:\n",
    "    # implement here all desired dtypes for tables\n",
    "    # the following is just an example\n",
    "    for col in df.columns:\n",
    "        # last letter of column name will help you determine the type\n",
    "        if col[-1] in (\"P\", \"A\"):\n",
    "                df = df.with_columns(pl.col(col).cast(pl.Float64))\n",
    "    return df\n",
    "\n",
    "def convert_strings(df: pd.DataFrame) -> pd.DataFrame: \n",
    "    for col in df.columns:  \n",
    "        if df[col].dtype.name in ['object', 'string']:\n",
    "            df[col] = df[col].astype(\"string\").astype('category')\n",
    "            current_categories = df[col].cat.categories\n",
    "            new_categories = current_categories.to_list() + [\"Unknown\"]\n",
    "            new_dtype = pd.CategoricalDtype(categories=new_categories, ordered=True)\n",
    "            df[col] = df[col].astype(new_dtype)\n",
    "    return df\n",
    "\n",
    "#https://www.kaggle.com/code/darynarr/home-credit-drop-date-features/notebook\n",
    "def reduce_memory_usage_pl(df):\n",
    "        \"\"\" Reduce memory usage by polars dataframe {df} with name {name} by changing its data types.\n",
    "            Original pandas version of this function: https://www.kaggle.com/code/arjanso/reducing-dataframe-memory-size-by-65 \"\"\"\n",
    "        print(f\"Memory usage of dataframe is {round(df.estimated_size('mb'), 2)} MB\")\n",
    "        Numeric_Int_types = [pl.Int8,pl.Int16,pl.Int32,pl.Int64]\n",
    "        Numeric_Float_types = [pl.Float32,pl.Float64]    \n",
    "        for col in df.columns:\n",
    "            try:\n",
    "                col_type = df[col].dtype\n",
    "                if col_type == pl.Categorical:\n",
    "                    continue\n",
    "                c_min = df[col].min()\n",
    "                c_max = df[col].max()\n",
    "                if col_type in Numeric_Int_types:\n",
    "                    if c_min > np.iinfo(np.int8).min and c_max < np.iinfo(np.int8).max:\n",
    "                        df = df.with_columns(df[col].cast(pl.Int32))\n",
    "                    elif c_min > np.iinfo(np.int16).min and c_max < np.iinfo(np.int16).max:\n",
    "                        df = df.with_columns(df[col].cast(pl.Int16))\n",
    "                    elif c_min > np.iinfo(np.int32).min and c_max < np.iinfo(np.int32).max:\n",
    "                        df = df.with_columns(df[col].cast(pl.Int32))\n",
    "                    elif c_min > np.iinfo(np.int64).min and c_max < np.iinfo(np.int64).max:\n",
    "                        df = df.with_columns(df[col].cast(pl.Int64))\n",
    "                elif col_type in Numeric_Float_types:\n",
    "                    if c_min > np.finfo(np.float32).min and c_max < np.finfo(np.float32).max:\n",
    "                        df = df.with_columns(df[col].cast(pl.Float32))\n",
    "                    else:\n",
    "                        pass\n",
    "                # elif col_type == pl.Utf8:\n",
    "                #     df = df.with_columns(df[col].cast(pl.Categorical))\n",
    "                else:\n",
    "                    pass\n",
    "            except:\n",
    "                pass\n",
    "        print(f\"Memory usage of dataframe became {round(df.estimated_size('mb'), 2)} MB\")\n",
    "        return df"
   ]
  },
  {
   "cell_type": "code",
   "execution_count": 3,
   "id": "955fdcfb",
   "metadata": {
    "_kg_hide-input": true,
    "execution": {
     "iopub.execute_input": "2024-03-25T08:10:37.771472Z",
     "iopub.status.busy": "2024-03-25T08:10:37.770576Z",
     "iopub.status.idle": "2024-03-25T08:11:25.788632Z",
     "shell.execute_reply": "2024-03-25T08:11:25.787523Z"
    },
    "papermill": {
     "duration": 48.026695,
     "end_time": "2024-03-25T08:11:25.791763",
     "exception": false,
     "start_time": "2024-03-25T08:10:37.765068",
     "status": "completed"
    },
    "tags": []
   },
   "outputs": [],
   "source": [
    "train_basetable = pl.read_csv(dataPath+'csv_files/train/train_base.csv').pipe(set_table_dtypes)\n",
    "\n",
    "train_static = pl.concat(\n",
    "[pl.read_csv(dataPath + \"csv_files/train/train_static_0_0.csv\").pipe(set_table_dtypes),\n",
    "pl.read_csv(dataPath + \"csv_files/train/train_static_0_1.csv\").pipe(set_table_dtypes)\n",
    "],how = 'vertical_relaxed',\n",
    ")\n",
    "\n",
    "train_applprev = pl.concat(\n",
    "[pl.read_csv(dataPath + \"csv_files/train/train_applprev_1_0.csv\").pipe(set_table_dtypes),\n",
    "pl.read_csv(dataPath + \"csv_files/train/train_applprev_1_1.csv\").pipe(set_table_dtypes)   \n",
    "],how = 'vertical_relaxed',\n",
    ")\n",
    "\n",
    "train_static_cb = pl.read_csv(dataPath + \"csv_files/train/train_static_cb_0.csv\").pipe(set_table_dtypes)\n",
    "train_person_1 = pl.read_csv(dataPath + \"csv_files/train/train_person_1.csv\").pipe(set_table_dtypes)\n",
    "train_credit_bureau_a_2_5 = pl.read_csv(dataPath + \"csv_files/train/train_credit_bureau_a_2_5.csv\").pipe(set_table_dtypes)\n",
    "train_deposit_1 = pl.read_csv(dataPath + \"csv_files/train/train_deposit_1.csv\").pipe(set_table_dtypes)\n"
   ]
  },
  {
   "cell_type": "code",
   "execution_count": 4,
   "id": "9eae86d0",
   "metadata": {
    "execution": {
     "iopub.execute_input": "2024-03-25T08:11:25.804312Z",
     "iopub.status.busy": "2024-03-25T08:11:25.802669Z",
     "iopub.status.idle": "2024-03-25T08:11:25.890899Z",
     "shell.execute_reply": "2024-03-25T08:11:25.889539Z"
    },
    "papermill": {
     "duration": 0.098121,
     "end_time": "2024-03-25T08:11:25.894369",
     "exception": false,
     "start_time": "2024-03-25T08:11:25.796248",
     "status": "completed"
    },
    "tags": []
   },
   "outputs": [],
   "source": [
    "test_basetable = pl.read_csv(dataPath+'csv_files/test/test_base.csv').pipe(set_table_dtypes)\n",
    "\n",
    "test_static = pl.concat(\n",
    "[pl.read_csv(dataPath + \"csv_files/test/test_static_0_0.csv\").pipe(set_table_dtypes),\n",
    "pl.read_csv(dataPath + \"csv_files/test/test_static_0_1.csv\").pipe(set_table_dtypes)\n",
    "],how = 'vertical_relaxed',\n",
    ")\n",
    "test_applprev = pl.concat(\n",
    "[       pl.read_csv(dataPath + \"csv_files/test/test_applprev_1_0.csv\").pipe(set_table_dtypes),\n",
    "        pl.read_csv(dataPath + \"csv_files/test/test_applprev_1_1.csv\").pipe(set_table_dtypes),    \n",
    "],how = 'vertical_relaxed',\n",
    ")\n",
    "\n",
    "test_static_cb = pl.read_csv(dataPath + \"csv_files/test/test_static_cb_0.csv\").pipe(set_table_dtypes)\n",
    "test_person_1 = pl.read_csv(dataPath + \"csv_files/test/test_person_1.csv\").pipe(set_table_dtypes)\n",
    "test_credit_bureau_a_2_5 = pl.read_csv(dataPath + \"csv_files/test/test_credit_bureau_a_2_5.csv\").pipe(set_table_dtypes)\n",
    "test_deposit_1 = pl.read_csv(dataPath + \"csv_files/test/test_deposit_1.csv\").pipe(set_table_dtypes)"
   ]
  },
  {
   "cell_type": "code",
   "execution_count": 5,
   "id": "d9332f96",
   "metadata": {
    "execution": {
     "iopub.execute_input": "2024-03-25T08:11:25.904686Z",
     "iopub.status.busy": "2024-03-25T08:11:25.904232Z",
     "iopub.status.idle": "2024-03-25T08:11:31.412829Z",
     "shell.execute_reply": "2024-03-25T08:11:31.411352Z"
    },
    "papermill": {
     "duration": 5.516984,
     "end_time": "2024-03-25T08:11:31.415537",
     "exception": false,
     "start_time": "2024-03-25T08:11:25.898553",
     "status": "completed"
    },
    "tags": []
   },
   "outputs": [
    {
     "name": "stdout",
     "output_type": "stream",
     "text": [
      "Memory usage of dataframe is 635.99 MB\n",
      "Memory usage of dataframe became 612.69 MB\n",
      "Memory usage of dataframe is 0.0 MB\n",
      "Memory usage of dataframe became 0.0 MB\n"
     ]
    }
   ],
   "source": [
    "class FeatureEngineer:\n",
    "    def __init__(self, train_basetable, train_static, train_static_cb,\n",
    "                 train_person_1, train_credit_bureau_a_2_5,train_deposit_1,train_applprev):\n",
    "        \n",
    "        self.train_basetable = train_basetable\n",
    "        self.train_static = train_static\n",
    "        self.train_static_cb = train_static_cb\n",
    "        self.train_person_1 = train_person_1\n",
    "        self.train_credit_bureau_a_2_5 = train_credit_bureau_a_2_5\n",
    "        self.train_deposit_1 = train_deposit_1\n",
    "        self.train_applprev = train_applprev\n",
    "        \n",
    "        \n",
    "    def generate_person_features(self):\n",
    "        # Aggregating features from train_person_1\n",
    "        train_person_1_feats_1 = self.train_person_1.group_by(\"case_id\").agg(\n",
    "            pl.col(\"mainoccupationinc_384A\").max().alias(\"mainoccupationinc_384A_maxA\"),\n",
    "            (pl.col(\"incometype_1044T\") == \"SELFEMPLOYED\").max().alias(\"mainoccupationinc_384A_any_selfemployedA\"),\n",
    "            pl.col(\"childnum_185L\").sum().alias(\"total_childrenL\").cast(pl.Int32)\n",
    "        )\n",
    "        \n",
    "        # Filtering and selecting features from train_person_1\n",
    "        train_person_1_feats_2 = self.train_person_1.select([\"case_id\", \"num_group1\", \"housetype_905L\"]).filter(\n",
    "            pl.col(\"num_group1\") == 0).drop(\"num_group1\").rename({\"housetype_905L\": \"person_housetypeL\"})\n",
    "        \n",
    "        \n",
    "        return train_person_1_feats_1, train_person_1_feats_2\n",
    "    \n",
    "    \n",
    "    def deposit_frequency(self):\n",
    "        deposit_frequency = self.train_deposit_1.group_by(\"case_id\").agg(\n",
    "        pl.count(\"amount_416A\").alias(\"deposit_countL\")\n",
    "    )   \n",
    "        return deposit_frequency\n",
    "    \n",
    "    \n",
    "    def generate_applprev(self):\n",
    "         # Total Payment Amount\n",
    "            total_payment_amount = self.train_applprev.group_by(\"case_id\").agg(\n",
    "                pl.col(\"pmtnum_8L\").sum().alias(\"total_payment_amountL\"))\n",
    "            \n",
    "            # average Annuity\n",
    "            avg_annuity = self.train_applprev.group_by(\"case_id\").agg(\n",
    "                pl.col(\"annuity_853A\").mean().alias(\"avg_annuityA\"))\n",
    "\n",
    "            \n",
    "            #payment_rate = self.train_applprev.with_columns(\n",
    "                #(pl.col(\"annuity_853A\")/pl.col(\"credamount_590A\")).alias(\"payment_rateL\"))\n",
    "\n",
    "            return total_payment_amount,avg_annuity #payment_rate\n",
    "\n",
    "           \n",
    "    \n",
    "    def generate_static_columns(self, df):\n",
    "        selected_static_cols = [col for col in df.columns if col[-1] in (\"A\", \"M\")]\n",
    "        return df.select([\"case_id\"] + selected_static_cols) \n",
    "     \n",
    " \n",
    "        # Generating features\n",
    "    def join_tables(self):\n",
    "        person_feats_1, person_feats_2 = self.generate_person_features()\n",
    "        deposit_frequency = self.deposit_frequency()\n",
    "        total_payment_amount,avg_annuity = self.generate_applprev()\n",
    "         \n",
    "        # Selecting static columns\n",
    "        selected_static = self.generate_static_columns(self.train_static)\n",
    "        selected_static_cb = self.generate_static_columns(self.train_static_cb)\n",
    "        \n",
    "        #joining data\n",
    "        data = self.train_basetable.join(selected_static, how=\"left\", on=\"case_id\") \\\n",
    "                                   .join(selected_static_cb, how=\"left\", on=\"case_id\") \\\n",
    "                                   .join(person_feats_1, how=\"left\", on=\"case_id\") \\\n",
    "                                   .join(person_feats_2, how=\"left\", on=\"case_id\") \\\n",
    "                                   .join(deposit_frequency, how=\"left\", on=\"case_id\") \\\n",
    "                                   .join(total_payment_amount, how=\"left\", on=\"case_id\") \\\n",
    "                                   .join(avg_annuity, how=\"left\", on=\"case_id\") \n",
    "\n",
    "                                   #.join(payment_rate, how=\"left\", on=\"case_id\") \n",
    "\n",
    "        data = data.with_columns(\n",
    "            pl.col(pl.Float64).cast(pl.Float32)\n",
    "        )\n",
    "        \n",
    "        \n",
    "        return data\n",
    "    \n",
    "            \n",
    "       # Generate and join features for the test set\n",
    "    def process_test_set(self, test_basetable, test_static, test_static_cb, test_person_1, test_credit_bureau_a_2_5, test_deposit_1,test_applprev):\n",
    "        fe_test = FeatureEngineer(test_basetable, test_static, test_static_cb, test_person_1, test_credit_bureau_a_2_5, test_deposit_1,test_applprev)\n",
    "        \n",
    "        test_data = fe_test.join_tables()\n",
    "\n",
    "\n",
    "        return test_data\n",
    "    \n",
    "\n",
    "fe = FeatureEngineer(train_basetable, train_static, train_static_cb, train_person_1,\n",
    "                     train_credit_bureau_a_2_5,train_deposit_1,train_applprev)\n",
    "\n",
    "data = fe.join_tables()\n",
    "data = reduce_memory_usage_pl(data)\n",
    "\n",
    "\n",
    "test_data = fe.process_test_set(test_basetable, test_static, test_static_cb,\n",
    "                                test_person_1, test_credit_bureau_a_2_5, test_deposit_1,test_applprev)\n",
    "\n",
    "test_data = reduce_memory_usage_pl(test_data)"
   ]
  },
  {
   "cell_type": "code",
   "execution_count": 6,
   "id": "7e1d6f6a",
   "metadata": {
    "_kg_hide-output": false,
    "execution": {
     "iopub.execute_input": "2024-03-25T08:11:31.426736Z",
     "iopub.status.busy": "2024-03-25T08:11:31.426260Z",
     "iopub.status.idle": "2024-03-25T08:11:38.818332Z",
     "shell.execute_reply": "2024-03-25T08:11:38.816909Z"
    },
    "papermill": {
     "duration": 7.401188,
     "end_time": "2024-03-25T08:11:38.821365",
     "exception": false,
     "start_time": "2024-03-25T08:11:31.420177",
     "status": "completed"
    },
    "tags": []
   },
   "outputs": [],
   "source": [
    "case_ids = data[\"case_id\"].unique().shuffle(seed=1)\n",
    "case_ids_train, case_ids_test = train_test_split(case_ids, train_size=0.6, random_state=42)\n",
    "case_ids_valid, case_ids_test = train_test_split(case_ids_test, train_size=0.5, random_state=42)\n",
    "\n",
    "cols_pred = []\n",
    "for col in data.columns:\n",
    "    if col[-1].isupper() and col[:-1].islower():\n",
    "        cols_pred.append(col)\n",
    "\n",
    "        \n",
    "def from_polars_to_pandas(case_ids: pl.DataFrame) -> pl.DataFrame:\n",
    "    return (\n",
    "        data.filter(pl.col(\"case_id\").is_in(case_ids))[[\"case_id\", \"WEEK_NUM\", \"target\"]].to_pandas(),\n",
    "        data.filter(pl.col(\"case_id\").is_in(case_ids))[cols_pred].to_pandas(),\n",
    "        data.filter(pl.col(\"case_id\").is_in(case_ids))[\"target\"].to_pandas()\n",
    "    )\n",
    "\n",
    "base_train, X_train, y_train = from_polars_to_pandas(case_ids_train)\n",
    "base_valid, X_valid, y_valid = from_polars_to_pandas(case_ids_valid)\n",
    "base_test, X_test, y_test = from_polars_to_pandas(case_ids_test)\n",
    "\n",
    "for df in [X_train, X_valid, X_test]:\n",
    "    df = convert_strings(df)"
   ]
  },
  {
   "cell_type": "code",
   "execution_count": 7,
   "id": "e2986a54",
   "metadata": {
    "execution": {
     "iopub.execute_input": "2024-03-25T08:11:38.833089Z",
     "iopub.status.busy": "2024-03-25T08:11:38.832560Z",
     "iopub.status.idle": "2024-03-25T08:11:38.840602Z",
     "shell.execute_reply": "2024-03-25T08:11:38.839103Z"
    },
    "papermill": {
     "duration": 0.017879,
     "end_time": "2024-03-25T08:11:38.844221",
     "exception": false,
     "start_time": "2024-03-25T08:11:38.826342",
     "status": "completed"
    },
    "tags": []
   },
   "outputs": [
    {
     "name": "stdout",
     "output_type": "stream",
     "text": [
      "X_train:(915995, 53)\n",
      "Valid: (305332, 53)\n",
      "Test: (305332, 53)\n"
     ]
    }
   ],
   "source": [
    "print(f\"X_train:{X_train.shape}\")\n",
    "print(f\"Valid: {X_valid.shape}\")\n",
    "print(f\"Test: {X_test.shape}\")"
   ]
  },
  {
   "cell_type": "code",
   "execution_count": 8,
   "id": "c9a3f69b",
   "metadata": {
    "_kg_hide-output": true,
    "execution": {
     "iopub.execute_input": "2024-03-25T08:11:38.855351Z",
     "iopub.status.busy": "2024-03-25T08:11:38.854872Z",
     "iopub.status.idle": "2024-03-25T08:21:10.910596Z",
     "shell.execute_reply": "2024-03-25T08:21:10.908319Z"
    },
    "papermill": {
     "duration": 572.06522,
     "end_time": "2024-03-25T08:21:10.913923",
     "exception": false,
     "start_time": "2024-03-25T08:11:38.848703",
     "status": "completed"
    },
    "tags": []
   },
   "outputs": [
    {
     "name": "stderr",
     "output_type": "stream",
     "text": [
      "/opt/conda/lib/python3.10/site-packages/lightgbm/engine.py:172: UserWarning: Found `n_estimators` in params. Will use it instead of argument\n",
      "  _log_warning(f\"Found `{alias}` in params. Will use it instead of argument\")\n"
     ]
    },
    {
     "name": "stdout",
     "output_type": "stream",
     "text": [
      "Training until validation scores don't improve for 50 rounds\n",
      "[50]\tvalid_0's auc: 0.737776\n",
      "[100]\tvalid_0's auc: 0.748611\n",
      "[150]\tvalid_0's auc: 0.753637\n",
      "[200]\tvalid_0's auc: 0.756102\n",
      "[250]\tvalid_0's auc: 0.758019\n",
      "[300]\tvalid_0's auc: 0.759338\n",
      "[350]\tvalid_0's auc: 0.759993\n",
      "[400]\tvalid_0's auc: 0.760346\n",
      "[450]\tvalid_0's auc: 0.760841\n",
      "[500]\tvalid_0's auc: 0.76118\n",
      "[550]\tvalid_0's auc: 0.761434\n",
      "[600]\tvalid_0's auc: 0.761474\n",
      "Early stopping, best iteration is:\n",
      "[573]\tvalid_0's auc: 0.761503\n"
     ]
    },
    {
     "name": "stderr",
     "output_type": "stream",
     "text": [
      "/opt/conda/lib/python3.10/site-packages/lightgbm/engine.py:172: UserWarning: Found `n_estimators` in params. Will use it instead of argument\n",
      "  _log_warning(f\"Found `{alias}` in params. Will use it instead of argument\")\n"
     ]
    },
    {
     "name": "stdout",
     "output_type": "stream",
     "text": [
      "Training until validation scores don't improve for 50 rounds\n",
      "[50]\tvalid_0's auc: 0.736981\n",
      "[100]\tvalid_0's auc: 0.748429\n",
      "[150]\tvalid_0's auc: 0.75393\n",
      "[200]\tvalid_0's auc: 0.757027\n",
      "[250]\tvalid_0's auc: 0.759337\n",
      "[300]\tvalid_0's auc: 0.760675\n",
      "[350]\tvalid_0's auc: 0.761622\n",
      "[400]\tvalid_0's auc: 0.762312\n",
      "[450]\tvalid_0's auc: 0.762982\n",
      "[500]\tvalid_0's auc: 0.76314\n",
      "[550]\tvalid_0's auc: 0.763433\n",
      "[600]\tvalid_0's auc: 0.763698\n",
      "[650]\tvalid_0's auc: 0.763814\n",
      "[700]\tvalid_0's auc: 0.763827\n",
      "Early stopping, best iteration is:\n",
      "[663]\tvalid_0's auc: 0.763884\n"
     ]
    },
    {
     "name": "stderr",
     "output_type": "stream",
     "text": [
      "/opt/conda/lib/python3.10/site-packages/lightgbm/engine.py:172: UserWarning: Found `n_estimators` in params. Will use it instead of argument\n",
      "  _log_warning(f\"Found `{alias}` in params. Will use it instead of argument\")\n"
     ]
    },
    {
     "name": "stdout",
     "output_type": "stream",
     "text": [
      "Training until validation scores don't improve for 50 rounds\n",
      "[50]\tvalid_0's auc: 0.732508\n",
      "[100]\tvalid_0's auc: 0.743228\n",
      "[150]\tvalid_0's auc: 0.747691\n",
      "[200]\tvalid_0's auc: 0.750613\n",
      "[250]\tvalid_0's auc: 0.752253\n",
      "[300]\tvalid_0's auc: 0.753435\n",
      "[350]\tvalid_0's auc: 0.754477\n",
      "[400]\tvalid_0's auc: 0.75514\n",
      "[450]\tvalid_0's auc: 0.755585\n",
      "[500]\tvalid_0's auc: 0.755731\n",
      "[550]\tvalid_0's auc: 0.755882\n",
      "[600]\tvalid_0's auc: 0.756073\n",
      "[650]\tvalid_0's auc: 0.756326\n",
      "[700]\tvalid_0's auc: 0.756305\n",
      "Early stopping, best iteration is:\n",
      "[660]\tvalid_0's auc: 0.756381\n"
     ]
    },
    {
     "name": "stderr",
     "output_type": "stream",
     "text": [
      "/opt/conda/lib/python3.10/site-packages/lightgbm/engine.py:172: UserWarning: Found `n_estimators` in params. Will use it instead of argument\n",
      "  _log_warning(f\"Found `{alias}` in params. Will use it instead of argument\")\n"
     ]
    },
    {
     "name": "stdout",
     "output_type": "stream",
     "text": [
      "Training until validation scores don't improve for 50 rounds\n",
      "[50]\tvalid_0's auc: 0.737498\n",
      "[100]\tvalid_0's auc: 0.748241\n",
      "[150]\tvalid_0's auc: 0.753545\n",
      "[200]\tvalid_0's auc: 0.757047\n",
      "[250]\tvalid_0's auc: 0.759161\n",
      "[300]\tvalid_0's auc: 0.760438\n",
      "[350]\tvalid_0's auc: 0.761347\n",
      "[400]\tvalid_0's auc: 0.761771\n",
      "[450]\tvalid_0's auc: 0.762047\n",
      "[500]\tvalid_0's auc: 0.762361\n",
      "[550]\tvalid_0's auc: 0.762641\n",
      "[600]\tvalid_0's auc: 0.762861\n",
      "[650]\tvalid_0's auc: 0.763077\n",
      "[700]\tvalid_0's auc: 0.763215\n",
      "[750]\tvalid_0's auc: 0.763333\n",
      "[800]\tvalid_0's auc: 0.763183\n",
      "Early stopping, best iteration is:\n",
      "[754]\tvalid_0's auc: 0.763365\n"
     ]
    },
    {
     "name": "stderr",
     "output_type": "stream",
     "text": [
      "/opt/conda/lib/python3.10/site-packages/lightgbm/engine.py:172: UserWarning: Found `n_estimators` in params. Will use it instead of argument\n",
      "  _log_warning(f\"Found `{alias}` in params. Will use it instead of argument\")\n"
     ]
    },
    {
     "name": "stdout",
     "output_type": "stream",
     "text": [
      "Training until validation scores don't improve for 50 rounds\n",
      "[50]\tvalid_0's auc: 0.729163\n",
      "[100]\tvalid_0's auc: 0.740269\n",
      "[150]\tvalid_0's auc: 0.746156\n",
      "[200]\tvalid_0's auc: 0.74964\n",
      "[250]\tvalid_0's auc: 0.751896\n",
      "[300]\tvalid_0's auc: 0.75338\n",
      "[350]\tvalid_0's auc: 0.754515\n",
      "[400]\tvalid_0's auc: 0.755227\n",
      "[450]\tvalid_0's auc: 0.755577\n",
      "[500]\tvalid_0's auc: 0.755918\n",
      "[550]\tvalid_0's auc: 0.756238\n",
      "[600]\tvalid_0's auc: 0.756498\n",
      "[650]\tvalid_0's auc: 0.756683\n",
      "[700]\tvalid_0's auc: 0.756766\n",
      "[750]\tvalid_0's auc: 0.756932\n",
      "[800]\tvalid_0's auc: 0.756918\n",
      "[850]\tvalid_0's auc: 0.757057\n",
      "[900]\tvalid_0's auc: 0.757151\n",
      "[950]\tvalid_0's auc: 0.757276\n",
      "[1000]\tvalid_0's auc: 0.757214\n",
      "Early stopping, best iteration is:\n",
      "[954]\tvalid_0's auc: 0.757294\n"
     ]
    }
   ],
   "source": [
    "import lightgbm as lgb\n",
    "from sklearn.model_selection import KFold\n",
    "\n",
    "\n",
    "params = {\n",
    "    \"boosting_type\": \"gbdt\",\n",
    "    \"objective\": \"binary\",\n",
    "    \"metric\": \"auc\",\n",
    "    \"max_depth\": 10,\n",
    "    \"learning_rate\": 0.05,\n",
    "    \"max_bin\": 255,\n",
    "    \"n_estimators\": 1200,\n",
    "    \"colsample_bytree\": 0.8,\n",
    "    \"colsample_bynode\": 0.8,\n",
    "    \"verbose\": -1,\n",
    "    \"random_state\": 42,\n",
    "    \"reg_alpha\": 0.1,\n",
    "    \"reg_lambda\": 10,\n",
    "    \"extra_trees\":True,\n",
    "    'num_leaves':64,\n",
    "    #\"device\": \"gpu\"\n",
    "}\n",
    "\n",
    "# KFold object with 5 folds\n",
    "kf = KFold(n_splits=5, shuffle=True, random_state=42)\n",
    "\n",
    "#store evaluation results\n",
    "eval_results = []\n",
    "\n",
    "# Perform 5 fold with cv\n",
    "for train_index, valid_index in kf.split(X_train):\n",
    "    X_train_fold, X_valid_fold = X_train.iloc[train_index], X_train.iloc[valid_index]\n",
    "    y_train_fold, y_valid_fold = y_train.iloc[train_index], y_train.iloc[valid_index]\n",
    "    \n",
    "    lgb_train = lgb.Dataset(X_train_fold, label=y_train_fold)\n",
    "    lgb_valid = lgb.Dataset(X_valid_fold, label=y_valid_fold, reference=lgb_train)\n",
    "\n",
    "    gbm = lgb.train(params, lgb_train, valid_sets=[lgb_valid],callbacks=[lgb.log_evaluation(50), lgb.early_stopping(50)])\n",
    "    \n",
    "    eval_results.append(gbm.best_score)"
   ]
  },
  {
   "cell_type": "code",
   "execution_count": 9,
   "id": "9cf99a12",
   "metadata": {
    "execution": {
     "iopub.execute_input": "2024-03-25T08:21:10.938180Z",
     "iopub.status.busy": "2024-03-25T08:21:10.937456Z",
     "iopub.status.idle": "2024-03-25T08:21:11.106251Z",
     "shell.execute_reply": "2024-03-25T08:21:11.104937Z"
    },
    "papermill": {
     "duration": 0.184785,
     "end_time": "2024-03-25T08:21:11.109001",
     "exception": false,
     "start_time": "2024-03-25T08:21:10.924216",
     "status": "completed"
    },
    "tags": []
   },
   "outputs": [],
   "source": [
    "X_submission = test_data[cols_pred].to_pandas()\n",
    "X_submission = convert_strings(X_submission)\n",
    "categorical_cols = X_train.select_dtypes(include=['category']).columns\n",
    "\n",
    "for col in categorical_cols:\n",
    "    train_categories = set(X_train[col].cat.categories)\n",
    "    submission_categories = set(X_submission[col].cat.categories)\n",
    "    new_categories = submission_categories - train_categories\n",
    "    X_submission.loc[X_submission[col].isin(new_categories), col] = \"Unknown\"\n",
    "    new_dtype = pd.CategoricalDtype(categories=train_categories, ordered=True)\n",
    "    X_train[col] = X_train[col].astype(new_dtype)\n",
    "    X_submission[col] = X_submission[col].astype(new_dtype)\n",
    "    \n",
    "y_submission_pred = gbm.predict(X_submission, num_iteration=gbm.best_iteration)"
   ]
  },
  {
   "cell_type": "code",
   "execution_count": 10,
   "id": "1efc6462",
   "metadata": {
    "execution": {
     "iopub.execute_input": "2024-03-25T08:21:11.132541Z",
     "iopub.status.busy": "2024-03-25T08:21:11.132040Z",
     "iopub.status.idle": "2024-03-25T08:21:11.150980Z",
     "shell.execute_reply": "2024-03-25T08:21:11.149570Z"
    },
    "papermill": {
     "duration": 0.034675,
     "end_time": "2024-03-25T08:21:11.153796",
     "exception": false,
     "start_time": "2024-03-25T08:21:11.119121",
     "status": "completed"
    },
    "tags": []
   },
   "outputs": [],
   "source": [
    "submission = pd.DataFrame({\n",
    "    \"case_id\":test_data[\"case_id\"].to_numpy(),\n",
    "    \"score\": y_submission_pred\n",
    "}).set_index('case_id')\n",
    "submission.to_csv(\"./submission.csv\")"
   ]
  },
  {
   "cell_type": "code",
   "execution_count": null,
   "id": "b3d25b68",
   "metadata": {
    "papermill": {
     "duration": 0.010439,
     "end_time": "2024-03-25T08:21:11.175112",
     "exception": false,
     "start_time": "2024-03-25T08:21:11.164673",
     "status": "completed"
    },
    "tags": []
   },
   "outputs": [],
   "source": []
  }
 ],
 "metadata": {
  "kaggle": {
   "accelerator": "none",
   "dataSources": [
    {
     "databundleVersionId": 7921029,
     "sourceId": 50160,
     "sourceType": "competition"
    }
   ],
   "dockerImageVersionId": 30646,
   "isGpuEnabled": false,
   "isInternetEnabled": false,
   "language": "python",
   "sourceType": "notebook"
  },
  "kernelspec": {
   "display_name": "Python 3",
   "language": "python",
   "name": "python3"
  },
  "language_info": {
   "codemirror_mode": {
    "name": "ipython",
    "version": 3
   },
   "file_extension": ".py",
   "mimetype": "text/x-python",
   "name": "python",
   "nbconvert_exporter": "python",
   "pygments_lexer": "ipython3",
   "version": "3.10.13"
  },
  "papermill": {
   "default_parameters": {},
   "duration": 643.809524,
   "end_time": "2024-03-25T08:21:14.010743",
   "environment_variables": {},
   "exception": null,
   "input_path": "__notebook__.ipynb",
   "output_path": "__notebook__.ipynb",
   "parameters": {},
   "start_time": "2024-03-25T08:10:30.201219",
   "version": "2.5.0"
  }
 },
 "nbformat": 4,
 "nbformat_minor": 5
}
